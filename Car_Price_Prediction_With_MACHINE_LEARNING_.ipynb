{
  "nbformat": 4,
  "nbformat_minor": 0,
  "metadata": {
    "colab": {
      "private_outputs": true,
      "provenance": [],
      "authorship_tag": "ABX9TyN4tnwJW7yP8FSQve2S660s",
      "include_colab_link": true
    },
    "kernelspec": {
      "name": "python3",
      "display_name": "Python 3"
    },
    "language_info": {
      "name": "python"
    },
    "accelerator": "GPU",
    "gpuClass": "standard"
  },
  "cells": [
    {
      "cell_type": "markdown",
      "metadata": {
        "id": "view-in-github",
        "colab_type": "text"
      },
      "source": [
        "<a href=\"https://colab.research.google.com/github/yogesh2142/Car_prediction_with_Machine_learning/blob/main/Car_Price_Prediction_With_MACHINE_LEARNING_.ipynb\" target=\"_parent\"><img src=\"https://colab.research.google.com/assets/colab-badge.svg\" alt=\"Open In Colab\"/></a>"
      ]
    },
    {
      "cell_type": "code",
      "source": [
        "#Importing the basic librarires fot analysis\n",
        "import datetime\n",
        "import numpy as np\n",
        "import pandas as pd\n",
        "import seaborn as sns\n",
        "import matplotlib.pyplot as plt\n",
        "%matplotlib inline\n",
        "\n",
        "from sklearn.model_selection import train_test_split\n",
        "from sklearn.linear_model import LinearRegression\n",
        "from sklearn.ensemble import RandomForestRegressor\n",
        "from sklearn.preprocessing import StandardScaler\n",
        "from sklearn.metrics import r2_score"
      ],
      "metadata": {
        "id": "L9juLCJxgCJG"
      },
      "execution_count": null,
      "outputs": []
    },
    {
      "cell_type": "code",
      "source": [
        "from google.colab import files\n",
        "uploaded = files.upload()"
      ],
      "metadata": {
        "id": "_pdj5bbcggei"
      },
      "execution_count": null,
      "outputs": []
    },
    {
      "cell_type": "code",
      "source": [
        "df=pd.read_csv(\"CarPrice.csv\")"
      ],
      "metadata": {
        "id": "rUScqr0Ag78K"
      },
      "execution_count": null,
      "outputs": []
    },
    {
      "cell_type": "code",
      "source": [
        "df.head()"
      ],
      "metadata": {
        "id": "qZOYcTywjVEA"
      },
      "execution_count": null,
      "outputs": []
    },
    {
      "cell_type": "code",
      "source": [
        "#checking null value \n",
        "df.isnull().sum()"
      ],
      "metadata": {
        "id": "KoX7mfpyltG6"
      },
      "execution_count": null,
      "outputs": []
    },
    {
      "cell_type": "code",
      "source": [
        "df.info()"
      ],
      "metadata": {
        "id": "0tgrk4WBl4on"
      },
      "execution_count": null,
      "outputs": []
    },
    {
      "cell_type": "code",
      "source": [
        "print(df.describe())"
      ],
      "metadata": {
        "id": "w9crN09W53gv"
      },
      "execution_count": null,
      "outputs": []
    },
    {
      "cell_type": "code",
      "source": [
        "df.CarName.unique()"
      ],
      "metadata": {
        "id": "gVKiPASg5_SZ"
      },
      "execution_count": null,
      "outputs": []
    },
    {
      "cell_type": "code",
      "source": [
        "sns.set_style(\"whitegrid\")\n",
        "plt.figure(figsize=(15,10))\n",
        "sns.distplot(df.price)\n",
        "plt.show()"
      ],
      "metadata": {
        "id": "tqZIlSfh6Hqb"
      },
      "execution_count": null,
      "outputs": []
    },
    {
      "cell_type": "code",
      "source": [
        "print(df.corr())"
      ],
      "metadata": {
        "id": "isXjOdxF6typ"
      },
      "execution_count": null,
      "outputs": []
    },
    {
      "cell_type": "code",
      "source": [
        "plt.figure(figsize=(20,15))\n",
        "correlations=df.corr()\n",
        "sns.heatmap(correlations, cmap=\"coolwarm\",annot=True)"
      ],
      "metadata": {
        "id": "J72pggxG62mJ"
      },
      "execution_count": null,
      "outputs": []
    },
    {
      "cell_type": "markdown",
      "source": [
        "# Training a Car price Prediction Model"
      ],
      "metadata": {
        "id": "kZXT-9bs74KT"
      }
    },
    {
      "cell_type": "code",
      "source": [
        "predict = \"price\"\n",
        "df = df[[\"symboling\",\"wheelbase\",\"carlength\",\n",
        "             \"carwidth\",\"carheight\",\"curbweight\",\n",
        "             \"enginesize\",\"boreratio\",\"stroke\",\n",
        "             \"compressionratio\",\"horsepower\",\"peakrpm\",\n",
        "             \"citympg\",\"highwaympg\",\"price\"]]\n",
        "x = np.array(df.drop([predict], 1))\n",
        "y = np.array(df[predict])\n",
        "\n",
        "from sklearn.model_selection import train_test_split\n",
        "xtrain, xtest, ytrain, ytest = train_test_split(x, y, test_size=0.2)\n",
        "\n",
        "from sklearn.tree import DecisionTreeRegressor\n",
        "model = DecisionTreeRegressor()\n",
        "model.fit(xtrain, ytrain)\n",
        "predictions = model.predict(xtest)\n",
        "\n",
        "from sklearn.metrics import mean_absolute_error\n",
        "model.score(xtest, predictions)"
      ],
      "metadata": {
        "id": "11Kdmsem7_lI"
      },
      "execution_count": null,
      "outputs": []
    },
    {
      "cell_type": "markdown",
      "source": [
        "The model gives 100% accuracy on the test set, which is exellent. \n",
        "# Thank You"
      ],
      "metadata": {
        "id": "2TUUF8VWAe8Q"
      }
    }
  ]
}